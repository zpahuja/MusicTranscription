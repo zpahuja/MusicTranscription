{
 "cells": [
  {
   "cell_type": "markdown",
   "metadata": {},
   "source": [
    "# Example\n",
    "\n",
    "This python notebook will contain experiments. Below is a sample experiment which is taken from main function of model.py:"
   ]
  },
  {
   "cell_type": "code",
   "execution_count": 1,
   "metadata": {},
   "outputs": [],
   "source": [
    "\n",
    "import musicnetIO as mn\n",
    "import model\n",
    "import numpy as np\n",
    "import librosa\n",
    "import librosa.display\n",
    "import matplotlib.pyplot as plt\n",
    "from sklearn import linear_model\n",
    "from sklearn.metrics import precision_recall_curve\n",
    "from sklearn.metrics import average_precision_score\n"
   ]
  },
  {
   "cell_type": "code",
   "execution_count": 2,
   "metadata": {},
   "outputs": [
    {
     "name": "stdout",
     "output_type": "stream",
     "text": [
      "duration of all test files: 89.35034013605443 seconds\n",
      "test files: ['2303'] \n",
      "duration of all train files: 1271.2111111111112 seconds\n",
      "train files: ['1727', '2677', '2678'] \n",
      "duration of all val files: 245.15614512471655 seconds\n",
      "val files: ['1730'] \n"
     ]
    }
   ],
   "source": [
    "#reading data\n",
    "datalist = mn.readData()\n",
    "\n",
    "newdatalist = mn.filterData(datalist,keepinstr=[1],keepnotes=0,excludenotes=0,excludeinstr=-1)\n",
    "\n",
    "traindl,valdl,testdl = mn.splitData(newdatalist)"
   ]
  },
  {
   "cell_type": "code",
   "execution_count": 3,
   "metadata": {},
   "outputs": [
    {
     "name": "stdout",
     "output_type": "stream",
     "text": [
      "[995.0, 3826.0, 276.0]\n"
     ]
    }
   ],
   "source": [
    "#below we print number of positive samples for each note in the notelist\n",
    "#model.notelist contains notes we are interested in predicting\n",
    "td, _ = mn.sampleData(valdl)\n",
    "y=np.concatenate(td['y'],axis=1)[model.notelist] #keep only note labels\n",
    "print (np.ndarray.tolist(np.sum(y,axis=1)))"
   ]
  },
  {
   "cell_type": "code",
   "execution_count": 4,
   "metadata": {},
   "outputs": [
    {
     "name": "stdout",
     "output_type": "stream",
     "text": [
      "0\n",
      "1\n",
      "2\n"
     ]
    }
   ],
   "source": [
    "#training\n",
    "stftmod = model.fbmodel(fb='stft')\n",
    "\n",
    "stftmod.train(traindl)"
   ]
  },
  {
   "cell_type": "code",
   "execution_count": 5,
   "metadata": {},
   "outputs": [
    {
     "name": "stdout",
     "output_type": "stream",
     "text": [
      "(3, 18950)\n",
      "(3, 18950)\n",
      "[[0. 0. 0. ... 0. 0. 0.]\n",
      " [0. 0. 0. ... 1. 1. 1.]\n",
      " [0. 0. 0. ... 0. 0. 0.]]\n",
      "-----\n",
      "[[0 0 0 ... 1 1 1]\n",
      " [0 0 0 ... 0 0 0]\n",
      " [0 0 0 ... 0 1 1]]\n"
     ]
    }
   ],
   "source": [
    "#prediction\n",
    "yhat, y = stftmod.predict(valdl)\n",
    "\n",
    "print (y.shape)\n",
    "print (yhat.shape)\n",
    "print (y)\n",
    "print (\"-----\")\n",
    "print (yhat)"
   ]
  },
  {
   "cell_type": "code",
   "execution_count": 7,
   "metadata": {},
   "outputs": [
    {
     "name": "stdout",
     "output_type": "stream",
     "text": [
      "average_precision_score is: 0.09024454213578827\n"
     ]
    },
    {
     "data": {
      "image/png": "[encoded data removed]",
      "text/plain": [
       "<Figure size 432x288 with 1 Axes>"
      ]
     },
     "metadata": {
      "needs_background": "light"
     },
     "output_type": "display_data"
    }
   ],
   "source": [
    "#score calculation\n",
    "print (\"average_precision_score is: {}\".format(model.computescore(yhat,y,func='f1')))\n",
    "\n",
    "precision, recall, _ = precision_recall_curve(np.transpose(y).flatten(), np.transpose(yhat).flatten())\n",
    "fig = plt.figure()\n",
    "plt.plot(recall,precision,color=(41/255.,104/255.,168/255.),linewidth=3)\n",
    "fig.axes[0].set_xlabel('recall')\n",
    "fig.axes[0].set_ylabel('precision')\n",
    "plt.show()"
   ]
  },
  {
   "cell_type": "code",
   "execution_count": null,
   "metadata": {},
   "outputs": [],
   "source": []
  }
 ],
 "metadata": {
  "kernelspec": {
   "display_name": "Python 3",
   "language": "python",
   "name": "python3"
  },
  "language_info": {
   "codemirror_mode": {
    "name": "ipython",
    "version": 3
   },
   "file_extension": ".py",
   "mimetype": "text/x-python",
   "name": "python",
   "nbconvert_exporter": "python",
   "pygments_lexer": "ipython3",
   "version": "3.6.6"
  }
 },
 "nbformat": 4,
 "nbformat_minor": 2
}
