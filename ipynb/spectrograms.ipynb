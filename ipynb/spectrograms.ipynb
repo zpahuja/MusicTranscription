{
 "cells": [
  {
   "cell_type": "markdown",
   "metadata": {},
   "source": [
    "# Preamble"
   ]
  },
  {
   "cell_type": "markdown",
   "metadata": {},
   "source": [
    "This tutorial depends on the NumPy, SciPy, matplotlib, and intervaltree packages."
   ]
  },
  {
   "cell_type": "code",
   "execution_count": null,
   "metadata": {
    "collapsed": false
   },
   "outputs": [],
   "source": [
    "import numpy as np                                       # fast vectors and matrices\n",
    "import matplotlib.pyplot as plt                          # plotting\n",
    "from scipy import fft                                    # fast fourier transform\n",
    "\n",
    "from IPython.display import Audio\n",
    "\n",
    "from intervaltree import Interval,IntervalTree\n",
    "\n",
    "%matplotlib inline"
   ]
  },
  {
   "cell_type": "markdown",
   "metadata": {},
   "source": [
    "### Constants"
   ]
  },
  {
   "cell_type": "markdown",
   "metadata": {},
   "source": [
    "A recording of a musical performance is a real-valued time series. The values of this time series represent sound pressure variations sampled at regular intervals, in this case 44,100Hz. The human ear interprets pressure periodicities as musical notes."
   ]
  },
  {
   "cell_type": "code",
   "execution_count": null,
   "metadata": {
    "collapsed": true
   },
   "outputs": [],
   "source": [
    "fs = 44100      # samples/second"
   ]
  },
  {
   "cell_type": "markdown",
   "metadata": {},
   "source": [
    "### Load MusicNet"
   ]
  },
  {
   "cell_type": "markdown",
   "metadata": {},
   "source": [
    "Download MusicNet from http://homes.cs.washington.edu/~thickstn/musicnet.html. See the Introductory tutorial for more information about the dataset."
   ]
  },
  {
   "cell_type": "code",
   "execution_count": null,
   "metadata": {
    "collapsed": false
   },
   "outputs": [],
   "source": [
    "train_data = np.load(open('../musicnet.npz','rb'))"
   ]
  },
  {
   "cell_type": "markdown",
   "metadata": {
    "collapsed": true
   },
   "source": [
    "# Spectrograms"
   ]
  },
  {
   "cell_type": "code",
   "execution_count": null,
   "metadata": {
    "collapsed": false
   },
   "outputs": [],
   "source": [
    "X,Y = train_data['2494'] # data X and labels Y for recording id 1788"
   ]
  },
  {
   "cell_type": "markdown",
   "metadata": {},
   "source": [
    "A spectrogram is the pointwise magnitude of the fourier transform of a segment of an audio signal. We will compute spectrograms of 2048 samples. The number of samples, i.e. the window size, is a parameter of the spectrogram representation. If the window size is too short, the spectrogram will fail to capture relevant information; if it is too long, it loses temporal resolution.\n",
    "\n",
    "We compute this feature representation at a stride of 512 samples. Therefore each spectrogram has 75% overlap with the previous spectrogram in the time series. Shorter strides lead to a higher-resolution representation of the signal at the cost of increased computational demands."
   ]
  },
  {
   "cell_type": "code",
   "execution_count": null,
   "metadata": {
    "collapsed": false
   },
   "outputs": [],
   "source": [
    "window_size = 2048  # 2048-sample fourier windows\n",
    "stride = 512        # 512 samples between windows\n",
    "wps = fs/float(512) # ~86 windows/second\n",
    "Xs = np.empty([int(10*wps),2048])\n",
    "\n",
    "for i in range(Xs.shape[0]):\n",
    "    Xs[i] = np.abs(fft(X[i*stride:i*stride+window_size]))"
   ]
  },
  {
   "cell_type": "markdown",
   "metadata": {},
   "source": [
    "Each spectrogram is a window_size list of amplitudes; the k'th amplitude is the squared-response of the signal window to sinusoidal weights with frequency k. Specifically, if $\\mathbf{x} = (x_1,\\dots,x_t)$ denotes a segment of an audio signal of length $t$ then we can define\n",
    "$$\n",
    "\\text{Spec}_k(\\mathbf{x}) \\equiv \\left|\\sum_{s=1}^t e^{iks}x_s\\right|^2  = \\left(\\sum_{s=1}^t \\cos(ks)x_s\\right)^2 + \\left(\\sum_{s=1}^t \\sin(ks)x_s\\right)^2.\n",
    "$$\n",
    "\n",
    "The figure below (left) illustrates the spetrogram of X at time t = 3 seconds. The complete set of spectrogram filters ranges from k=0 to k=window_size, but the amplitudes are symmetric around k=1024, so we can ignore the second half of the spectrogram (below; middle). We can sometimes be much more aggressive; most of the frequency content of musical recording is concentrated in the low-frequency spectrogram components, so it is often reasonable to cut off the spectrogram at some smaller value (below; right)."
   ]
  },
  {
   "cell_type": "code",
   "execution_count": null,
   "metadata": {
    "collapsed": false
   },
   "outputs": [],
   "source": [
    "second = 3\n",
    "\n",
    "fig, ((ax1, ax2, ax3)) = plt.subplots(1, 3,sharey=True)\n",
    "fig.set_figwidth(20)\n",
    "ax1.plot(Xs[int(second*wps)],color=(41/255.,104/255.,168/255.))\n",
    "ax1.set_xlim([0,window_size])\n",
    "ax1.set_ylabel('amplitude')\n",
    "ax2.plot(Xs[int(second*wps),0:window_size/2],color=(41/255.,104/255.,168/255.))\n",
    "ax2.set_xlim([0,window_size/2])\n",
    "ax3.plot(Xs[int(second*wps),0:150],color=(41/255.,104/255.,168/255.))\n",
    "ax3.set_xlim([0,150])"
   ]
  },
  {
   "cell_type": "markdown",
   "metadata": {},
   "source": [
    "Recall that the time series X is a floating point array of pressure samples, normalized to the interval [-1,1]."
   ]
  },
  {
   "cell_type": "code",
   "execution_count": null,
   "metadata": {
    "collapsed": false
   },
   "outputs": [],
   "source": [
    "fig = plt.figure()\n",
    "fig.set_figwidth(20)\n",
    "fig.set_figheight(2)\n",
    "plt.plot(X[0:10*fs],color=(41/255.,104/255.,168/255.))\n",
    "fig.axes[0].set_xlabel('sample (44,100Hz)')\n",
    "fig.axes[0].set_ylabel('amplitude')"
   ]
  },
  {
   "cell_type": "markdown",
   "metadata": {},
   "source": [
    "We can plot spectrograms verus time using a heatmap. Compare the time series above to the two-dimensional spectrogram representation of X. The horizontal axis in both cases is time. Below, the vertical axis consists of color-coded values indicating the amplitude of the spectrogram at a point in time."
   ]
  },
  {
   "cell_type": "code",
   "execution_count": null,
   "metadata": {
    "collapsed": false
   },
   "outputs": [],
   "source": [
    "fig = plt.figure(figsize=(20,7))\n",
    "plt.imshow(Xs.T[0:150],aspect='auto')\n",
    "plt.gca().invert_yaxis()\n",
    "fig.axes[0].set_xlabel('windows (~86Hz)')\n",
    "fig.axes[0].set_ylabel('frequency')"
   ]
  },
  {
   "cell_type": "code",
   "execution_count": null,
   "metadata": {
    "collapsed": true
   },
   "outputs": [],
   "source": []
  }
 ],
 "metadata": {
  "kernelspec": {
   "display_name": "Python 2",
   "language": "python",
   "name": "python2"
  },
  "language_info": {
   "codemirror_mode": {
    "name": "ipython",
    "version": 2
   },
   "file_extension": ".py",
   "mimetype": "text/x-python",
   "name": "python",
   "nbconvert_exporter": "python",
   "pygments_lexer": "ipython2",
   "version": "2.7.6"
  }
 },
 "nbformat": 4,
 "nbformat_minor": 0
}
